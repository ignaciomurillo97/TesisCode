{
 "cells": [
  {
   "cell_type": "code",
   "execution_count": 2,
   "metadata": {},
   "outputs": [
    {
     "name": "stdout",
     "output_type": "stream",
     "text": [
      "Requirement already satisfied: tensorflow-datasets in /usr/local/lib/python3.8/dist-packages (4.9.2)\n",
      "Requirement already satisfied: h5py in /usr/local/lib/python3.8/dist-packages (3.9.0)\n",
      "Requirement already satisfied: pyyaml in /usr/local/lib/python3.8/dist-packages (6.0)\n",
      "Requirement already satisfied: absl-py in /usr/local/lib/python3.8/dist-packages (from tensorflow-datasets) (1.4.0)\n",
      "Requirement already satisfied: array-record in /usr/local/lib/python3.8/dist-packages (from tensorflow-datasets) (0.4.0)\n",
      "Requirement already satisfied: click in /usr/local/lib/python3.8/dist-packages (from tensorflow-datasets) (8.1.6)\n",
      "Requirement already satisfied: dm-tree in /usr/local/lib/python3.8/dist-packages (from tensorflow-datasets) (0.1.8)\n",
      "Requirement already satisfied: etils[enp,epath]>=0.9.0 in /usr/local/lib/python3.8/dist-packages (from tensorflow-datasets) (1.3.0)\n",
      "Requirement already satisfied: numpy in /usr/local/lib/python3.8/dist-packages (from tensorflow-datasets) (1.24.3)\n",
      "Requirement already satisfied: promise in /usr/local/lib/python3.8/dist-packages (from tensorflow-datasets) (2.3)\n",
      "Requirement already satisfied: protobuf>=3.20 in /usr/local/lib/python3.8/dist-packages (from tensorflow-datasets) (3.20.3)\n",
      "Requirement already satisfied: psutil in /usr/local/lib/python3.8/dist-packages (from tensorflow-datasets) (5.9.5)\n",
      "Requirement already satisfied: requests>=2.19.0 in /usr/lib/python3/dist-packages (from tensorflow-datasets) (2.22.0)\n",
      "Requirement already satisfied: tensorflow-metadata in /usr/local/lib/python3.8/dist-packages (from tensorflow-datasets) (1.14.0)\n",
      "Requirement already satisfied: termcolor in /usr/local/lib/python3.8/dist-packages (from tensorflow-datasets) (2.3.0)\n",
      "Requirement already satisfied: toml in /usr/local/lib/python3.8/dist-packages (from tensorflow-datasets) (0.10.2)\n",
      "Requirement already satisfied: tqdm in /usr/local/lib/python3.8/dist-packages (from tensorflow-datasets) (4.66.1)\n",
      "Requirement already satisfied: wrapt in /usr/local/lib/python3.8/dist-packages (from tensorflow-datasets) (1.15.0)\n",
      "Requirement already satisfied: importlib-resources in /usr/local/lib/python3.8/dist-packages (from tensorflow-datasets) (5.12.0)\n",
      "Requirement already satisfied: typing_extensions in /usr/local/lib/python3.8/dist-packages (from etils[enp,epath]>=0.9.0->tensorflow-datasets) (4.5.0)\n",
      "Requirement already satisfied: zipp in /usr/local/lib/python3.8/dist-packages (from etils[enp,epath]>=0.9.0->tensorflow-datasets) (3.15.0)\n",
      "Requirement already satisfied: six in /usr/lib/python3/dist-packages (from promise->tensorflow-datasets) (1.14.0)\n",
      "Requirement already satisfied: googleapis-common-protos<2,>=1.52.0 in /usr/local/lib/python3.8/dist-packages (from tensorflow-metadata->tensorflow-datasets) (1.60.0)\n",
      "\u001b[33mWARNING: Running pip as the 'root' user can result in broken permissions and conflicting behaviour with the system package manager. It is recommended to use a virtual environment instead: https://pip.pypa.io/warnings/venv\u001b[0m\u001b[33m\n",
      "\u001b[0m\n",
      "\u001b[1m[\u001b[0m\u001b[34;49mnotice\u001b[0m\u001b[1;39;49m]\u001b[0m\u001b[39;49m A new release of pip is available: \u001b[0m\u001b[31;49m23.1.2\u001b[0m\u001b[39;49m -> \u001b[0m\u001b[32;49m23.2.1\u001b[0m\n",
      "\u001b[1m[\u001b[0m\u001b[34;49mnotice\u001b[0m\u001b[1;39;49m]\u001b[0m\u001b[39;49m To update, run: \u001b[0m\u001b[32;49mpython3 -m pip install --upgrade pip\u001b[0m\n",
      "Note: you may need to restart the kernel to use updated packages.\n"
     ]
    }
   ],
   "source": [
    "%pip install tensorflow-datasets h5py pyyaml"
   ]
  },
  {
   "cell_type": "code",
   "execution_count": 3,
   "metadata": {},
   "outputs": [
    {
     "name": "stderr",
     "output_type": "stream",
     "text": [
      "2023-08-11 04:54:17.269552: I tensorflow/core/platform/cpu_feature_guard.cc:182] This TensorFlow binary is optimized to use available CPU instructions in performance-critical operations.\n",
      "To enable the following instructions: AVX2 FMA, in other operations, rebuild TensorFlow with the appropriate compiler flags.\n",
      "2023-08-11 04:54:18.475241: I tensorflow/compiler/xla/stream_executor/cuda/cuda_gpu_executor.cc:995] successful NUMA node read from SysFS had negative value (-1), but there must be at least one NUMA node, so returning NUMA node zero. See more at https://github.com/torvalds/linux/blob/v6.0/Documentation/ABI/testing/sysfs-bus-pci#L344-L355\n",
      "2023-08-11 04:54:18.483429: I tensorflow/compiler/xla/stream_executor/cuda/cuda_gpu_executor.cc:995] successful NUMA node read from SysFS had negative value (-1), but there must be at least one NUMA node, so returning NUMA node zero. See more at https://github.com/torvalds/linux/blob/v6.0/Documentation/ABI/testing/sysfs-bus-pci#L344-L355\n",
      "2023-08-11 04:54:18.483580: I tensorflow/compiler/xla/stream_executor/cuda/cuda_gpu_executor.cc:995] successful NUMA node read from SysFS had negative value (-1), but there must be at least one NUMA node, so returning NUMA node zero. See more at https://github.com/torvalds/linux/blob/v6.0/Documentation/ABI/testing/sysfs-bus-pci#L344-L355\n"
     ]
    }
   ],
   "source": [
    "# Bringing in tensorflow\n",
    "import tensorflow as tf\n",
    "gpus = tf.config.experimental.list_physical_devices('GPU')\n",
    "for gpu in gpus: \n",
    "    tf.config.experimental.set_memory_growth(gpu, True)"
   ]
  },
  {
   "cell_type": "code",
   "execution_count": 4,
   "metadata": {},
   "outputs": [],
   "source": [
    "# Brining in tensorflow datasets for fashion mnist \n",
    "import tensorflow_datasets as tfds\n",
    "# Bringing in matplotlib for viz stuff\n",
    "from matplotlib import pyplot as plt"
   ]
  },
  {
   "cell_type": "code",
   "execution_count": 5,
   "metadata": {},
   "outputs": [
    {
     "name": "stderr",
     "output_type": "stream",
     "text": [
      "2023-08-11 04:54:19.787817: W tensorflow/tsl/platform/cloud/google_auth_provider.cc:184] All attempts to get a Google authentication bearer token failed, returning an empty token. Retrieving token from files failed with \"NOT_FOUND: Could not locate the credentials file.\". Retrieving token from GCE failed with \"FAILED_PRECONDITION: Error executing an HTTP request: libcurl code 6 meaning 'Couldn't resolve host name', error details: Could not resolve host: metadata.google.internal\".\n"
     ]
    },
    {
     "name": "stdout",
     "output_type": "stream",
     "text": [
      "\u001b[1mDownloading and preparing dataset 29.45 MiB (download: 29.45 MiB, generated: 36.42 MiB, total: 65.87 MiB) to /root/tensorflow_datasets/fashion_mnist/3.0.1...\u001b[0m\n"
     ]
    },
    {
     "data": {
      "application/vnd.jupyter.widget-view+json": {
       "model_id": "b6159d90e7104b4faa95ce17a78091f1",
       "version_major": 2,
       "version_minor": 0
      },
      "text/plain": [
       "Dl Completed...: 0 url [00:00, ? url/s]"
      ]
     },
     "metadata": {},
     "output_type": "display_data"
    },
    {
     "data": {
      "application/vnd.jupyter.widget-view+json": {
       "model_id": "e58d423089644c44849a7132240c252c",
       "version_major": 2,
       "version_minor": 0
      },
      "text/plain": [
       "Dl Size...: 0 MiB [00:00, ? MiB/s]"
      ]
     },
     "metadata": {},
     "output_type": "display_data"
    },
    {
     "data": {
      "application/vnd.jupyter.widget-view+json": {
       "model_id": "691435e94b07492b81a605f6f4d22822",
       "version_major": 2,
       "version_minor": 0
      },
      "text/plain": [
       "Extraction completed...: 0 file [00:00, ? file/s]"
      ]
     },
     "metadata": {},
     "output_type": "display_data"
    },
    {
     "data": {
      "application/vnd.jupyter.widget-view+json": {
       "model_id": "6832440482ea4ce0a5912d5f0f29e8ba",
       "version_major": 2,
       "version_minor": 0
      },
      "text/plain": [
       "Generating splits...:   0%|          | 0/2 [00:00<?, ? splits/s]"
      ]
     },
     "metadata": {},
     "output_type": "display_data"
    },
    {
     "data": {
      "application/vnd.jupyter.widget-view+json": {
       "model_id": "31d8f7d68bd243229abf860adc439668",
       "version_major": 2,
       "version_minor": 0
      },
      "text/plain": [
       "Generating train examples...:   0%|          | 0/60000 [00:00<?, ? examples/s]"
      ]
     },
     "metadata": {},
     "output_type": "display_data"
    },
    {
     "name": "stderr",
     "output_type": "stream",
     "text": [
      "2023-08-11 04:54:29.573226: I tensorflow/compiler/xla/stream_executor/cuda/cuda_gpu_executor.cc:995] successful NUMA node read from SysFS had negative value (-1), but there must be at least one NUMA node, so returning NUMA node zero. See more at https://github.com/torvalds/linux/blob/v6.0/Documentation/ABI/testing/sysfs-bus-pci#L344-L355\n",
      "2023-08-11 04:54:29.573386: I tensorflow/compiler/xla/stream_executor/cuda/cuda_gpu_executor.cc:995] successful NUMA node read from SysFS had negative value (-1), but there must be at least one NUMA node, so returning NUMA node zero. See more at https://github.com/torvalds/linux/blob/v6.0/Documentation/ABI/testing/sysfs-bus-pci#L344-L355\n",
      "2023-08-11 04:54:29.573463: I tensorflow/compiler/xla/stream_executor/cuda/cuda_gpu_executor.cc:995] successful NUMA node read from SysFS had negative value (-1), but there must be at least one NUMA node, so returning NUMA node zero. See more at https://github.com/torvalds/linux/blob/v6.0/Documentation/ABI/testing/sysfs-bus-pci#L344-L355\n",
      "2023-08-11 04:54:29.631584: I tensorflow/compiler/xla/stream_executor/cuda/cuda_gpu_executor.cc:995] successful NUMA node read from SysFS had negative value (-1), but there must be at least one NUMA node, so returning NUMA node zero. See more at https://github.com/torvalds/linux/blob/v6.0/Documentation/ABI/testing/sysfs-bus-pci#L344-L355\n",
      "2023-08-11 04:54:29.631712: I tensorflow/compiler/xla/stream_executor/cuda/cuda_gpu_executor.cc:995] successful NUMA node read from SysFS had negative value (-1), but there must be at least one NUMA node, so returning NUMA node zero. See more at https://github.com/torvalds/linux/blob/v6.0/Documentation/ABI/testing/sysfs-bus-pci#L344-L355\n",
      "2023-08-11 04:54:29.631796: I tensorflow/compiler/xla/stream_executor/cuda/cuda_gpu_executor.cc:995] successful NUMA node read from SysFS had negative value (-1), but there must be at least one NUMA node, so returning NUMA node zero. See more at https://github.com/torvalds/linux/blob/v6.0/Documentation/ABI/testing/sysfs-bus-pci#L344-L355\n",
      "2023-08-11 04:54:29.631882: I tensorflow/core/common_runtime/gpu/gpu_device.cc:1639] Created device /job:localhost/replica:0/task:0/device:GPU:0 with 5614 MB memory:  -> device: 0, name: NVIDIA GeForce RTX 3060 Ti, pci bus id: 0000:01:00.0, compute capability: 8.6\n"
     ]
    },
    {
     "data": {
      "application/vnd.jupyter.widget-view+json": {
       "model_id": "5e09dfcf0c094b13a1297cb5798d654e",
       "version_major": 2,
       "version_minor": 0
      },
      "text/plain": [
       "Shuffling /root/tensorflow_datasets/fashion_mnist/3.0.1.incompleteG7RXWL/fashion_mnist-train.tfrecord*...:   0…"
      ]
     },
     "metadata": {},
     "output_type": "display_data"
    },
    {
     "data": {
      "application/vnd.jupyter.widget-view+json": {
       "model_id": "915ea1cab25148108358612d3805c6d1",
       "version_major": 2,
       "version_minor": 0
      },
      "text/plain": [
       "Generating test examples...:   0%|          | 0/10000 [00:00<?, ? examples/s]"
      ]
     },
     "metadata": {},
     "output_type": "display_data"
    },
    {
     "data": {
      "application/vnd.jupyter.widget-view+json": {
       "model_id": "776d8f33867a4b87b60e1c992143a80e",
       "version_major": 2,
       "version_minor": 0
      },
      "text/plain": [
       "Shuffling /root/tensorflow_datasets/fashion_mnist/3.0.1.incompleteG7RXWL/fashion_mnist-test.tfrecord*...:   0%…"
      ]
     },
     "metadata": {},
     "output_type": "display_data"
    },
    {
     "name": "stdout",
     "output_type": "stream",
     "text": [
      "\u001b[1mDataset fashion_mnist downloaded and prepared to /root/tensorflow_datasets/fashion_mnist/3.0.1. Subsequent calls will reuse this data.\u001b[0m\n"
     ]
    }
   ],
   "source": [
    "# Use tf datsets to train network\n",
    "ds = tfds.load('fashion_mnist', split='train')"
   ]
  },
  {
   "cell_type": "markdown",
   "metadata": {},
   "source": [
    "##  2. Viz data and build dataset"
   ]
  },
  {
   "cell_type": "code",
   "execution_count": 6,
   "metadata": {},
   "outputs": [],
   "source": [
    "# do data transformation\n",
    "import numpy as np"
   ]
  },
  {
   "cell_type": "code",
   "execution_count": 7,
   "metadata": {},
   "outputs": [],
   "source": [
    "# setup connection aka iterator\n",
    "dataiterator = ds.as_numpy_iterator()"
   ]
  },
  {
   "cell_type": "code",
   "execution_count": 8,
   "metadata": {},
   "outputs": [
    {
     "data": {
      "text/plain": [
       "{'image': array([[[  0],\n",
       "         [  0],\n",
       "         [  0],\n",
       "         [  0],\n",
       "         [  0],\n",
       "         [  0],\n",
       "         [  0],\n",
       "         [  0],\n",
       "         [  0],\n",
       "         [ 18],\n",
       "         [ 77],\n",
       "         [227],\n",
       "         [227],\n",
       "         [208],\n",
       "         [210],\n",
       "         [225],\n",
       "         [216],\n",
       "         [ 85],\n",
       "         [ 32],\n",
       "         [  0],\n",
       "         [  0],\n",
       "         [  0],\n",
       "         [  0],\n",
       "         [  0],\n",
       "         [  0],\n",
       "         [  0],\n",
       "         [  0],\n",
       "         [  0]],\n",
       " \n",
       "        [[  0],\n",
       "         [  0],\n",
       "         [  0],\n",
       "         [  0],\n",
       "         [  0],\n",
       "         [  0],\n",
       "         [  0],\n",
       "         [ 61],\n",
       "         [100],\n",
       "         [ 97],\n",
       "         [ 80],\n",
       "         [ 57],\n",
       "         [117],\n",
       "         [227],\n",
       "         [238],\n",
       "         [115],\n",
       "         [ 49],\n",
       "         [ 78],\n",
       "         [106],\n",
       "         [108],\n",
       "         [ 71],\n",
       "         [  0],\n",
       "         [  0],\n",
       "         [  0],\n",
       "         [  0],\n",
       "         [  0],\n",
       "         [  0],\n",
       "         [  0]],\n",
       " \n",
       "        [[  0],\n",
       "         [  0],\n",
       "         [  0],\n",
       "         [  0],\n",
       "         [  0],\n",
       "         [  0],\n",
       "         [ 81],\n",
       "         [105],\n",
       "         [ 80],\n",
       "         [ 69],\n",
       "         [ 72],\n",
       "         [ 64],\n",
       "         [ 44],\n",
       "         [ 21],\n",
       "         [ 13],\n",
       "         [ 44],\n",
       "         [ 69],\n",
       "         [ 75],\n",
       "         [ 75],\n",
       "         [ 80],\n",
       "         [114],\n",
       "         [ 80],\n",
       "         [  0],\n",
       "         [  0],\n",
       "         [  0],\n",
       "         [  0],\n",
       "         [  0],\n",
       "         [  0]],\n",
       " \n",
       "        [[  0],\n",
       "         [  0],\n",
       "         [  0],\n",
       "         [  0],\n",
       "         [  0],\n",
       "         [ 26],\n",
       "         [ 92],\n",
       "         [ 69],\n",
       "         [ 68],\n",
       "         [ 75],\n",
       "         [ 75],\n",
       "         [ 71],\n",
       "         [ 74],\n",
       "         [ 83],\n",
       "         [ 75],\n",
       "         [ 77],\n",
       "         [ 78],\n",
       "         [ 74],\n",
       "         [ 74],\n",
       "         [ 83],\n",
       "         [ 77],\n",
       "         [108],\n",
       "         [ 34],\n",
       "         [  0],\n",
       "         [  0],\n",
       "         [  0],\n",
       "         [  0],\n",
       "         [  0]],\n",
       " \n",
       "        [[  0],\n",
       "         [  0],\n",
       "         [  0],\n",
       "         [  0],\n",
       "         [  0],\n",
       "         [ 55],\n",
       "         [ 92],\n",
       "         [ 69],\n",
       "         [ 74],\n",
       "         [ 74],\n",
       "         [ 71],\n",
       "         [ 71],\n",
       "         [ 77],\n",
       "         [ 69],\n",
       "         [ 66],\n",
       "         [ 75],\n",
       "         [ 74],\n",
       "         [ 77],\n",
       "         [ 80],\n",
       "         [ 80],\n",
       "         [ 78],\n",
       "         [ 94],\n",
       "         [ 63],\n",
       "         [  0],\n",
       "         [  0],\n",
       "         [  0],\n",
       "         [  0],\n",
       "         [  0]],\n",
       " \n",
       "        [[  0],\n",
       "         [  0],\n",
       "         [  0],\n",
       "         [  0],\n",
       "         [  0],\n",
       "         [ 63],\n",
       "         [ 95],\n",
       "         [ 66],\n",
       "         [ 68],\n",
       "         [ 72],\n",
       "         [ 72],\n",
       "         [ 69],\n",
       "         [ 72],\n",
       "         [ 74],\n",
       "         [ 74],\n",
       "         [ 74],\n",
       "         [ 75],\n",
       "         [ 75],\n",
       "         [ 77],\n",
       "         [ 80],\n",
       "         [ 77],\n",
       "         [106],\n",
       "         [ 61],\n",
       "         [  0],\n",
       "         [  0],\n",
       "         [  0],\n",
       "         [  0],\n",
       "         [  0]],\n",
       " \n",
       "        [[  0],\n",
       "         [  0],\n",
       "         [  0],\n",
       "         [  0],\n",
       "         [  0],\n",
       "         [ 80],\n",
       "         [108],\n",
       "         [ 71],\n",
       "         [ 69],\n",
       "         [ 72],\n",
       "         [ 71],\n",
       "         [ 69],\n",
       "         [ 72],\n",
       "         [ 75],\n",
       "         [ 75],\n",
       "         [ 72],\n",
       "         [ 72],\n",
       "         [ 75],\n",
       "         [ 78],\n",
       "         [ 72],\n",
       "         [ 85],\n",
       "         [128],\n",
       "         [ 64],\n",
       "         [  0],\n",
       "         [  0],\n",
       "         [  0],\n",
       "         [  0],\n",
       "         [  0]],\n",
       " \n",
       "        [[  0],\n",
       "         [  0],\n",
       "         [  0],\n",
       "         [  0],\n",
       "         [  0],\n",
       "         [ 88],\n",
       "         [120],\n",
       "         [ 75],\n",
       "         [ 74],\n",
       "         [ 77],\n",
       "         [ 75],\n",
       "         [ 72],\n",
       "         [ 77],\n",
       "         [ 74],\n",
       "         [ 74],\n",
       "         [ 77],\n",
       "         [ 78],\n",
       "         [ 83],\n",
       "         [ 83],\n",
       "         [ 66],\n",
       "         [111],\n",
       "         [123],\n",
       "         [ 78],\n",
       "         [  0],\n",
       "         [  0],\n",
       "         [  0],\n",
       "         [  0],\n",
       "         [  0]],\n",
       " \n",
       "        [[  0],\n",
       "         [  0],\n",
       "         [  0],\n",
       "         [  0],\n",
       "         [  0],\n",
       "         [ 85],\n",
       "         [134],\n",
       "         [ 74],\n",
       "         [ 85],\n",
       "         [ 69],\n",
       "         [ 75],\n",
       "         [ 75],\n",
       "         [ 74],\n",
       "         [ 75],\n",
       "         [ 74],\n",
       "         [ 75],\n",
       "         [ 75],\n",
       "         [ 81],\n",
       "         [ 75],\n",
       "         [ 61],\n",
       "         [151],\n",
       "         [115],\n",
       "         [ 91],\n",
       "         [ 12],\n",
       "         [  0],\n",
       "         [  0],\n",
       "         [  0],\n",
       "         [  0]],\n",
       " \n",
       "        [[  0],\n",
       "         [  0],\n",
       "         [  0],\n",
       "         [  0],\n",
       "         [ 10],\n",
       "         [ 85],\n",
       "         [153],\n",
       "         [ 83],\n",
       "         [ 80],\n",
       "         [ 68],\n",
       "         [ 77],\n",
       "         [ 75],\n",
       "         [ 74],\n",
       "         [ 75],\n",
       "         [ 74],\n",
       "         [ 75],\n",
       "         [ 77],\n",
       "         [ 80],\n",
       "         [ 68],\n",
       "         [ 61],\n",
       "         [162],\n",
       "         [122],\n",
       "         [ 78],\n",
       "         [  6],\n",
       "         [  0],\n",
       "         [  0],\n",
       "         [  0],\n",
       "         [  0]],\n",
       " \n",
       "        [[  0],\n",
       "         [  0],\n",
       "         [  0],\n",
       "         [  0],\n",
       "         [ 30],\n",
       "         [ 75],\n",
       "         [154],\n",
       "         [ 85],\n",
       "         [ 80],\n",
       "         [ 71],\n",
       "         [ 80],\n",
       "         [ 72],\n",
       "         [ 77],\n",
       "         [ 75],\n",
       "         [ 75],\n",
       "         [ 77],\n",
       "         [ 78],\n",
       "         [ 77],\n",
       "         [ 75],\n",
       "         [ 49],\n",
       "         [191],\n",
       "         [132],\n",
       "         [ 72],\n",
       "         [ 15],\n",
       "         [  0],\n",
       "         [  0],\n",
       "         [  0],\n",
       "         [  0]],\n",
       " \n",
       "        [[  0],\n",
       "         [  0],\n",
       "         [  0],\n",
       "         [  0],\n",
       "         [ 58],\n",
       "         [ 66],\n",
       "         [174],\n",
       "         [115],\n",
       "         [ 66],\n",
       "         [ 77],\n",
       "         [ 80],\n",
       "         [ 72],\n",
       "         [ 78],\n",
       "         [ 75],\n",
       "         [ 77],\n",
       "         [ 78],\n",
       "         [ 78],\n",
       "         [ 77],\n",
       "         [ 66],\n",
       "         [ 49],\n",
       "         [222],\n",
       "         [131],\n",
       "         [ 77],\n",
       "         [ 37],\n",
       "         [  0],\n",
       "         [  0],\n",
       "         [  0],\n",
       "         [  0]],\n",
       " \n",
       "        [[  0],\n",
       "         [  0],\n",
       "         [  0],\n",
       "         [  0],\n",
       "         [ 69],\n",
       "         [ 55],\n",
       "         [179],\n",
       "         [139],\n",
       "         [ 55],\n",
       "         [ 92],\n",
       "         [ 74],\n",
       "         [ 74],\n",
       "         [ 78],\n",
       "         [ 74],\n",
       "         [ 78],\n",
       "         [ 77],\n",
       "         [ 75],\n",
       "         [ 80],\n",
       "         [ 64],\n",
       "         [ 55],\n",
       "         [242],\n",
       "         [111],\n",
       "         [ 95],\n",
       "         [ 44],\n",
       "         [  0],\n",
       "         [  0],\n",
       "         [  0],\n",
       "         [  0]],\n",
       " \n",
       "        [[  0],\n",
       "         [  0],\n",
       "         [  0],\n",
       "         [  0],\n",
       "         [ 74],\n",
       "         [ 57],\n",
       "         [159],\n",
       "         [180],\n",
       "         [ 55],\n",
       "         [ 92],\n",
       "         [ 64],\n",
       "         [ 72],\n",
       "         [ 74],\n",
       "         [ 74],\n",
       "         [ 77],\n",
       "         [ 75],\n",
       "         [ 77],\n",
       "         [ 78],\n",
       "         [ 55],\n",
       "         [ 66],\n",
       "         [255],\n",
       "         [ 97],\n",
       "         [108],\n",
       "         [ 49],\n",
       "         [  0],\n",
       "         [  0],\n",
       "         [  0],\n",
       "         [  0]],\n",
       " \n",
       "        [[  0],\n",
       "         [  0],\n",
       "         [  0],\n",
       "         [  0],\n",
       "         [ 74],\n",
       "         [ 66],\n",
       "         [145],\n",
       "         [153],\n",
       "         [ 72],\n",
       "         [ 83],\n",
       "         [ 58],\n",
       "         [ 78],\n",
       "         [ 77],\n",
       "         [ 75],\n",
       "         [ 75],\n",
       "         [ 75],\n",
       "         [ 72],\n",
       "         [ 80],\n",
       "         [ 30],\n",
       "         [132],\n",
       "         [255],\n",
       "         [ 37],\n",
       "         [122],\n",
       "         [ 60],\n",
       "         [  0],\n",
       "         [  0],\n",
       "         [  0],\n",
       "         [  0]],\n",
       " \n",
       "        [[  0],\n",
       "         [  0],\n",
       "         [  0],\n",
       "         [  0],\n",
       "         [ 80],\n",
       "         [ 69],\n",
       "         [142],\n",
       "         [180],\n",
       "         [142],\n",
       "         [ 57],\n",
       "         [ 64],\n",
       "         [ 78],\n",
       "         [ 74],\n",
       "         [ 75],\n",
       "         [ 75],\n",
       "         [ 75],\n",
       "         [ 72],\n",
       "         [ 85],\n",
       "         [ 21],\n",
       "         [185],\n",
       "         [227],\n",
       "         [ 37],\n",
       "         [143],\n",
       "         [ 63],\n",
       "         [  0],\n",
       "         [  0],\n",
       "         [  0],\n",
       "         [  0]],\n",
       " \n",
       "        [[  0],\n",
       "         [  0],\n",
       "         [  0],\n",
       "         [  0],\n",
       "         [ 83],\n",
       "         [ 71],\n",
       "         [136],\n",
       "         [194],\n",
       "         [126],\n",
       "         [ 46],\n",
       "         [ 69],\n",
       "         [ 75],\n",
       "         [ 72],\n",
       "         [ 75],\n",
       "         [ 75],\n",
       "         [ 75],\n",
       "         [ 74],\n",
       "         [ 78],\n",
       "         [ 38],\n",
       "         [139],\n",
       "         [185],\n",
       "         [ 60],\n",
       "         [151],\n",
       "         [ 58],\n",
       "         [  0],\n",
       "         [  0],\n",
       "         [  0],\n",
       "         [  0]],\n",
       " \n",
       "        [[  0],\n",
       "         [  0],\n",
       "         [  0],\n",
       "         [  4],\n",
       "         [ 81],\n",
       "         [ 74],\n",
       "         [145],\n",
       "         [177],\n",
       "         [ 78],\n",
       "         [ 49],\n",
       "         [ 74],\n",
       "         [ 77],\n",
       "         [ 75],\n",
       "         [ 75],\n",
       "         [ 75],\n",
       "         [ 75],\n",
       "         [ 74],\n",
       "         [ 72],\n",
       "         [ 63],\n",
       "         [ 80],\n",
       "         [156],\n",
       "         [117],\n",
       "         [153],\n",
       "         [ 55],\n",
       "         [  0],\n",
       "         [  0],\n",
       "         [  0],\n",
       "         [  0]],\n",
       " \n",
       "        [[  0],\n",
       "         [  0],\n",
       "         [  0],\n",
       "         [ 10],\n",
       "         [ 80],\n",
       "         [ 72],\n",
       "         [157],\n",
       "         [163],\n",
       "         [ 61],\n",
       "         [ 55],\n",
       "         [ 75],\n",
       "         [ 77],\n",
       "         [ 75],\n",
       "         [ 77],\n",
       "         [ 75],\n",
       "         [ 75],\n",
       "         [ 75],\n",
       "         [ 77],\n",
       "         [ 71],\n",
       "         [ 60],\n",
       "         [ 98],\n",
       "         [156],\n",
       "         [132],\n",
       "         [ 58],\n",
       "         [  0],\n",
       "         [  0],\n",
       "         [  0],\n",
       "         [  0]],\n",
       " \n",
       "        [[  0],\n",
       "         [  0],\n",
       "         [  0],\n",
       "         [ 13],\n",
       "         [ 77],\n",
       "         [ 74],\n",
       "         [157],\n",
       "         [143],\n",
       "         [ 43],\n",
       "         [ 61],\n",
       "         [ 72],\n",
       "         [ 75],\n",
       "         [ 77],\n",
       "         [ 75],\n",
       "         [ 74],\n",
       "         [ 77],\n",
       "         [ 77],\n",
       "         [ 75],\n",
       "         [ 71],\n",
       "         [ 58],\n",
       "         [ 80],\n",
       "         [157],\n",
       "         [120],\n",
       "         [ 66],\n",
       "         [  0],\n",
       "         [  0],\n",
       "         [  0],\n",
       "         [  0]],\n",
       " \n",
       "        [[  0],\n",
       "         [  0],\n",
       "         [  0],\n",
       "         [ 18],\n",
       "         [ 81],\n",
       "         [ 74],\n",
       "         [156],\n",
       "         [114],\n",
       "         [ 35],\n",
       "         [ 72],\n",
       "         [ 71],\n",
       "         [ 75],\n",
       "         [ 78],\n",
       "         [ 72],\n",
       "         [ 66],\n",
       "         [ 80],\n",
       "         [ 78],\n",
       "         [ 77],\n",
       "         [ 75],\n",
       "         [ 64],\n",
       "         [ 63],\n",
       "         [165],\n",
       "         [119],\n",
       "         [ 68],\n",
       "         [  0],\n",
       "         [  0],\n",
       "         [  0],\n",
       "         [  0]],\n",
       " \n",
       "        [[  0],\n",
       "         [  0],\n",
       "         [  0],\n",
       "         [ 23],\n",
       "         [ 85],\n",
       "         [ 81],\n",
       "         [177],\n",
       "         [ 57],\n",
       "         [ 52],\n",
       "         [ 77],\n",
       "         [ 71],\n",
       "         [ 78],\n",
       "         [ 80],\n",
       "         [ 72],\n",
       "         [ 75],\n",
       "         [ 74],\n",
       "         [ 77],\n",
       "         [ 77],\n",
       "         [ 75],\n",
       "         [ 64],\n",
       "         [ 37],\n",
       "         [173],\n",
       "         [ 95],\n",
       "         [ 72],\n",
       "         [  0],\n",
       "         [  0],\n",
       "         [  0],\n",
       "         [  0]],\n",
       " \n",
       "        [[  0],\n",
       "         [  0],\n",
       "         [  0],\n",
       "         [ 26],\n",
       "         [ 81],\n",
       "         [ 86],\n",
       "         [160],\n",
       "         [ 20],\n",
       "         [ 75],\n",
       "         [ 77],\n",
       "         [ 77],\n",
       "         [ 80],\n",
       "         [ 78],\n",
       "         [ 80],\n",
       "         [ 89],\n",
       "         [ 78],\n",
       "         [ 81],\n",
       "         [ 83],\n",
       "         [ 80],\n",
       "         [ 74],\n",
       "         [ 20],\n",
       "         [177],\n",
       "         [ 77],\n",
       "         [ 74],\n",
       "         [  0],\n",
       "         [  0],\n",
       "         [  0],\n",
       "         [  0]],\n",
       " \n",
       "        [[  0],\n",
       "         [  0],\n",
       "         [  0],\n",
       "         [ 49],\n",
       "         [ 77],\n",
       "         [ 91],\n",
       "         [200],\n",
       "         [  0],\n",
       "         [ 83],\n",
       "         [ 95],\n",
       "         [ 86],\n",
       "         [ 88],\n",
       "         [ 88],\n",
       "         [ 89],\n",
       "         [ 88],\n",
       "         [ 89],\n",
       "         [ 88],\n",
       "         [ 83],\n",
       "         [ 89],\n",
       "         [ 86],\n",
       "         [  0],\n",
       "         [191],\n",
       "         [ 78],\n",
       "         [ 80],\n",
       "         [ 24],\n",
       "         [  0],\n",
       "         [  0],\n",
       "         [  0]],\n",
       " \n",
       "        [[  0],\n",
       "         [  0],\n",
       "         [  0],\n",
       "         [ 54],\n",
       "         [ 71],\n",
       "         [108],\n",
       "         [165],\n",
       "         [  0],\n",
       "         [ 24],\n",
       "         [ 57],\n",
       "         [ 52],\n",
       "         [ 57],\n",
       "         [ 60],\n",
       "         [ 60],\n",
       "         [ 60],\n",
       "         [ 63],\n",
       "         [ 63],\n",
       "         [ 77],\n",
       "         [ 89],\n",
       "         [ 52],\n",
       "         [  0],\n",
       "         [211],\n",
       "         [ 97],\n",
       "         [ 77],\n",
       "         [ 61],\n",
       "         [  0],\n",
       "         [  0],\n",
       "         [  0]],\n",
       " \n",
       "        [[  0],\n",
       "         [  0],\n",
       "         [  0],\n",
       "         [ 68],\n",
       "         [ 91],\n",
       "         [117],\n",
       "         [137],\n",
       "         [  0],\n",
       "         [  0],\n",
       "         [  0],\n",
       "         [  0],\n",
       "         [  0],\n",
       "         [  0],\n",
       "         [  0],\n",
       "         [  0],\n",
       "         [  0],\n",
       "         [  0],\n",
       "         [  0],\n",
       "         [  0],\n",
       "         [  0],\n",
       "         [ 18],\n",
       "         [216],\n",
       "         [ 94],\n",
       "         [ 97],\n",
       "         [ 57],\n",
       "         [  0],\n",
       "         [  0],\n",
       "         [  0]],\n",
       " \n",
       "        [[  0],\n",
       "         [  0],\n",
       "         [  0],\n",
       "         [ 54],\n",
       "         [115],\n",
       "         [105],\n",
       "         [185],\n",
       "         [  0],\n",
       "         [  0],\n",
       "         [  1],\n",
       "         [  0],\n",
       "         [  0],\n",
       "         [  0],\n",
       "         [  0],\n",
       "         [  0],\n",
       "         [  0],\n",
       "         [  0],\n",
       "         [  0],\n",
       "         [  0],\n",
       "         [  0],\n",
       "         [  0],\n",
       "         [153],\n",
       "         [ 78],\n",
       "         [106],\n",
       "         [ 37],\n",
       "         [  0],\n",
       "         [  0],\n",
       "         [  0]],\n",
       " \n",
       "        [[  0],\n",
       "         [  0],\n",
       "         [  0],\n",
       "         [ 18],\n",
       "         [ 61],\n",
       "         [ 41],\n",
       "         [103],\n",
       "         [  0],\n",
       "         [  0],\n",
       "         [  0],\n",
       "         [  0],\n",
       "         [  0],\n",
       "         [  0],\n",
       "         [  0],\n",
       "         [  0],\n",
       "         [  0],\n",
       "         [  0],\n",
       "         [  0],\n",
       "         [  0],\n",
       "         [  0],\n",
       "         [  0],\n",
       "         [106],\n",
       "         [ 47],\n",
       "         [ 69],\n",
       "         [ 23],\n",
       "         [  0],\n",
       "         [  0],\n",
       "         [  0]]], dtype=uint8),\n",
       " 'label': 2}"
      ]
     },
     "execution_count": 8,
     "metadata": {},
     "output_type": "execute_result"
    }
   ],
   "source": [
    "# getting data from pipeline\n",
    "dataiterator.next()"
   ]
  },
  {
   "cell_type": "code",
   "execution_count": 9,
   "metadata": {},
   "outputs": [
    {
     "data": {
      "image/png": "[encoded data removed]",
      "text/plain": [
       "<Figure size 2000x2000 with 4 Axes>"
      ]
     },
     "metadata": {},
     "output_type": "display_data"
    }
   ],
   "source": [
    "# Setup the subplot formatting \n",
    "fig, ax = plt.subplots(ncols=4, figsize=(20,20))\n",
    "# Loop four times and get images \n",
    "for idx in range(4): \n",
    "    # Grab an image and label\n",
    "    sample = dataiterator.next()\n",
    "    # Plot the image using a specific subplot \n",
    "    ax[idx].imshow(np.squeeze(sample['image']))\n",
    "    # Appending the image label as the plot title \n",
    "    ax[idx].title.set_text(sample['label'])"
   ]
  },
  {
   "cell_type": "code",
   "execution_count": 10,
   "metadata": {},
   "outputs": [],
   "source": [
    "# Scale and return images only\n",
    "def scale_images(data):\n",
    "    image = data['image'] \n",
    "    return image / 255"
   ]
  },
  {
   "cell_type": "code",
   "execution_count": 11,
   "metadata": {},
   "outputs": [],
   "source": [
    "# map cache shuffle batch prefetch\n",
    "\n",
    "# Reload\n",
    "ds = tfds.load('fashion_mnist', split='train')\n",
    "# scale\n",
    "ds = ds.map(scale_images)\n",
    "# cache\n",
    "ds = ds.cache()\n",
    "# shuffle\n",
    "ds = ds.shuffle(60000)\n",
    "# split into batches\n",
    "ds = ds.batch(128)\n",
    "# Reduces likelihood of bottlenecking\n",
    "ds = ds.prefetch(64)"
   ]
  },
  {
   "cell_type": "markdown",
   "metadata": {},
   "source": [
    "## Build NN"
   ]
  },
  {
   "cell_type": "code",
   "execution_count": 12,
   "metadata": {},
   "outputs": [],
   "source": [
    "# Bring in the sequential api for the generator and discriminator\n",
    "from tensorflow.keras.models import Sequential\n",
    "# Bring in the layers for the neural network\n",
    "from tensorflow.keras.layers import Conv2D, Dense, Flatten, Reshape, LeakyReLU, Dropout, UpSampling2D"
   ]
  },
  {
   "cell_type": "code",
   "execution_count": 13,
   "metadata": {},
   "outputs": [],
   "source": [
    "def build_generator(): \n",
    "    model = Sequential()\n",
    "    \n",
    "    # Takes in random values and reshapes it to 7x7x128\n",
    "    # Beginnings of a generated image\n",
    "    model.add(Dense(7*7*128, input_dim=128))\n",
    "    model.add(LeakyReLU(0.2))\n",
    "    model.add(Reshape((7,7,128)))\n",
    "    \n",
    "    # Upsampling block 1 \n",
    "    model.add(UpSampling2D())\n",
    "    model.add(Conv2D(128, 5, padding='same'))\n",
    "    model.add(LeakyReLU(0.2))\n",
    "    \n",
    "    # Upsampling block 2 \n",
    "    model.add(UpSampling2D())\n",
    "    model.add(Conv2D(128, 5, padding='same'))\n",
    "    model.add(LeakyReLU(0.2))\n",
    "    \n",
    "    # Convolutional block 1\n",
    "    model.add(Conv2D(128, 4, padding='same'))\n",
    "    model.add(LeakyReLU(0.2))\n",
    "    \n",
    "    # Convolutional block 2\n",
    "    model.add(Conv2D(128, 4, padding='same'))\n",
    "    model.add(LeakyReLU(0.2))\n",
    "    \n",
    "    # Conv layer to get to one channel\n",
    "    model.add(Conv2D(1, 4, padding='same', activation='sigmoid'))\n",
    "    \n",
    "    return model"
   ]
  },
  {
   "cell_type": "code",
   "execution_count": 14,
   "metadata": {},
   "outputs": [],
   "source": [
    "generator = build_generator()"
   ]
  },
  {
   "cell_type": "code",
   "execution_count": 15,
   "metadata": {},
   "outputs": [
    {
     "name": "stdout",
     "output_type": "stream",
     "text": [
      "Model: \"sequential\"\n",
      "_________________________________________________________________\n",
      " Layer (type)                Output Shape              Param #   \n",
      "=================================================================\n",
      " dense (Dense)               (None, 6272)              809088    \n",
      "                                                                 \n",
      " leaky_re_lu (LeakyReLU)     (None, 6272)              0         \n",
      "                                                                 \n",
      " reshape (Reshape)           (None, 7, 7, 128)         0         \n",
      "                                                                 \n",
      " up_sampling2d (UpSampling2  (None, 14, 14, 128)       0         \n",
      " D)                                                              \n",
      "                                                                 \n",
      " conv2d (Conv2D)             (None, 14, 14, 128)       409728    \n",
      "                                                                 \n",
      " leaky_re_lu_1 (LeakyReLU)   (None, 14, 14, 128)       0         \n",
      "                                                                 \n",
      " up_sampling2d_1 (UpSamplin  (None, 28, 28, 128)       0         \n",
      " g2D)                                                            \n",
      "                                                                 \n",
      " conv2d_1 (Conv2D)           (None, 28, 28, 128)       409728    \n",
      "                                                                 \n",
      " leaky_re_lu_2 (LeakyReLU)   (None, 28, 28, 128)       0         \n",
      "                                                                 \n",
      " conv2d_2 (Conv2D)           (None, 28, 28, 128)       262272    \n",
      "                                                                 \n",
      " leaky_re_lu_3 (LeakyReLU)   (None, 28, 28, 128)       0         \n",
      "                                                                 \n",
      " conv2d_3 (Conv2D)           (None, 28, 28, 128)       262272    \n",
      "                                                                 \n",
      " leaky_re_lu_4 (LeakyReLU)   (None, 28, 28, 128)       0         \n",
      "                                                                 \n",
      " conv2d_4 (Conv2D)           (None, 28, 28, 1)         2049      \n",
      "                                                                 \n",
      "=================================================================\n",
      "Total params: 2155137 (8.22 MB)\n",
      "Trainable params: 2155137 (8.22 MB)\n",
      "Non-trainable params: 0 (0.00 Byte)\n",
      "_________________________________________________________________\n"
     ]
    }
   ],
   "source": [
    "generator.summary()"
   ]
  },
  {
   "cell_type": "code",
   "execution_count": 16,
   "metadata": {},
   "outputs": [
    {
     "name": "stderr",
     "output_type": "stream",
     "text": [
      "2023-08-11 04:54:57.257643: I tensorflow/compiler/xla/stream_executor/cuda/cuda_blas.cc:606] TensorFloat-32 will be used for the matrix multiplication. This will only be logged once.\n",
      "2023-08-11 04:54:57.278382: I tensorflow/compiler/xla/stream_executor/cuda/cuda_dnn.cc:432] Loaded cuDNN version 8600\n"
     ]
    },
    {
     "name": "stdout",
     "output_type": "stream",
     "text": [
      "1/1 [==============================] - 0s 397ms/step\n"
     ]
    }
   ],
   "source": [
    "img = generator.predict(np.random.randn(4, 128, 1))"
   ]
  },
  {
   "cell_type": "code",
   "execution_count": 17,
   "metadata": {},
   "outputs": [
    {
     "name": "stdout",
     "output_type": "stream",
     "text": [
      "1/1 [==============================] - 0s 12ms/step\n"
     ]
    },
    {
     "data": {
      "image/png": "[encoded data removed]",
      "text/plain": [
       "<Figure size 2000x2000 with 4 Axes>"
      ]
     },
     "metadata": {},
     "output_type": "display_data"
    }
   ],
   "source": [
    "# Generate new fashion\n",
    "img = generator.predict(np.random.randn(4,128,1))\n",
    "# Setup the subplot formatting \n",
    "fig, ax = plt.subplots(ncols=4, figsize=(20,20))\n",
    "# Loop four times and get images \n",
    "for idx, img in enumerate(img): \n",
    "    # Plot the image using a specific subplot \n",
    "    ax[idx].imshow(np.squeeze(img))\n",
    "    # Appending the image label as the plot title \n",
    "    ax[idx].title.set_text(idx)"
   ]
  },
  {
   "cell_type": "code",
   "execution_count": 18,
   "metadata": {},
   "outputs": [],
   "source": [
    "def build_discriminator():\n",
    "    model = Sequential()\n",
    "\n",
    "    # first conv block\n",
    "    model.add(Conv2D(32, 5, input_shape = (28, 28, 1)))\n",
    "    model.add(LeakyReLU(0.2))\n",
    "    model.add(Dropout(0.4))\n",
    "\n",
    "    # Second conv block\n",
    "    model.add(Conv2D(64, 5))\n",
    "    model.add(LeakyReLU(0.2))\n",
    "    model.add(Dropout(0.4))\n",
    "\n",
    "    # Second conv block\n",
    "    model.add(Conv2D(128, 5))\n",
    "    model.add(LeakyReLU(0.2))\n",
    "    model.add(Dropout(0.4))\n",
    "\n",
    "    # Second conv block\n",
    "    model.add(Conv2D(256, 5))\n",
    "    model.add(LeakyReLU(0.2))\n",
    "    model.add(Dropout(0.4))\n",
    "\n",
    "    # Flatten then pass to dense layer\n",
    "    model.add(Flatten())\n",
    "    model.add(Dropout(0.4)) # Might be best to not have\n",
    "    model.add(Dense(1, activation='sigmoid'))\n",
    "\n",
    "    return model"
   ]
  },
  {
   "cell_type": "code",
   "execution_count": 19,
   "metadata": {},
   "outputs": [],
   "source": [
    "discriminator = build_discriminator()"
   ]
  },
  {
   "cell_type": "code",
   "execution_count": 20,
   "metadata": {},
   "outputs": [
    {
     "name": "stdout",
     "output_type": "stream",
     "text": [
      "Model: \"sequential_1\"\n",
      "_________________________________________________________________\n",
      " Layer (type)                Output Shape              Param #   \n",
      "=================================================================\n",
      " conv2d_5 (Conv2D)           (None, 24, 24, 32)        832       \n",
      "                                                                 \n",
      " leaky_re_lu_5 (LeakyReLU)   (None, 24, 24, 32)        0         \n",
      "                                                                 \n",
      " dropout (Dropout)           (None, 24, 24, 32)        0         \n",
      "                                                                 \n",
      " conv2d_6 (Conv2D)           (None, 20, 20, 64)        51264     \n",
      "                                                                 \n",
      " leaky_re_lu_6 (LeakyReLU)   (None, 20, 20, 64)        0         \n",
      "                                                                 \n",
      " dropout_1 (Dropout)         (None, 20, 20, 64)        0         \n",
      "                                                                 \n",
      " conv2d_7 (Conv2D)           (None, 16, 16, 128)       204928    \n",
      "                                                                 \n",
      " leaky_re_lu_7 (LeakyReLU)   (None, 16, 16, 128)       0         \n",
      "                                                                 \n",
      " dropout_2 (Dropout)         (None, 16, 16, 128)       0         \n",
      "                                                                 \n",
      " conv2d_8 (Conv2D)           (None, 12, 12, 256)       819456    \n",
      "                                                                 \n",
      " leaky_re_lu_8 (LeakyReLU)   (None, 12, 12, 256)       0         \n",
      "                                                                 \n",
      " dropout_3 (Dropout)         (None, 12, 12, 256)       0         \n",
      "                                                                 \n",
      " flatten (Flatten)           (None, 36864)             0         \n",
      "                                                                 \n",
      " dropout_4 (Dropout)         (None, 36864)             0         \n",
      "                                                                 \n",
      " dense_1 (Dense)             (None, 1)                 36865     \n",
      "                                                                 \n",
      "=================================================================\n",
      "Total params: 1113345 (4.25 MB)\n",
      "Trainable params: 1113345 (4.25 MB)\n",
      "Non-trainable params: 0 (0.00 Byte)\n",
      "_________________________________________________________________\n"
     ]
    }
   ],
   "source": [
    "discriminator.summary()"
   ]
  },
  {
   "cell_type": "code",
   "execution_count": 21,
   "metadata": {},
   "outputs": [
    {
     "name": "stdout",
     "output_type": "stream",
     "text": [
      "1/1 [==============================] - 0s 189ms/step\n"
     ]
    },
    {
     "data": {
      "text/plain": [
       "array([[0.5000525]], dtype=float32)"
      ]
     },
     "execution_count": 21,
     "metadata": {},
     "output_type": "execute_result"
    }
   ],
   "source": [
    "## Pass generated iamge into discriminator to prototype ;)\n",
    "discriminator.predict(np.expand_dims(img, 0))"
   ]
  },
  {
   "cell_type": "markdown",
   "metadata": {},
   "source": [
    "# 4. Construct training loop"
   ]
  },
  {
   "cell_type": "markdown",
   "metadata": {},
   "source": [
    "# 4.1 Setup losses and optimizers"
   ]
  },
  {
   "cell_type": "code",
   "execution_count": 22,
   "metadata": {},
   "outputs": [],
   "source": [
    "# Optimizer for both\n",
    "from tensorflow.keras.optimizers import Adam\n",
    "# Loss for both\n",
    "from tensorflow.keras.losses import BinaryCrossentropy"
   ]
  },
  {
   "cell_type": "code",
   "execution_count": 23,
   "metadata": {},
   "outputs": [],
   "source": [
    "g_opt = Adam(learning_rate=0.0001)\n",
    "d_opt = Adam(learning_rate=0.00001)\n",
    "\n",
    "g_loss = BinaryCrossentropy()\n",
    "d_loss = BinaryCrossentropy()"
   ]
  },
  {
   "cell_type": "markdown",
   "metadata": {},
   "source": [
    "# 4.2 Subclass model"
   ]
  },
  {
   "cell_type": "code",
   "execution_count": 24,
   "metadata": {},
   "outputs": [],
   "source": [
    "# Import base model class to subclass our training step\n",
    "from tensorflow.keras.models import Model"
   ]
  },
  {
   "cell_type": "code",
   "execution_count": 25,
   "metadata": {},
   "outputs": [],
   "source": [
    "# 3 key functions\n",
    "\n",
    "class FashionGan(Model):\n",
    "    def __init__(self, generator, discriminator, *args, **kwargs):\n",
    "        # Pass to base class\n",
    "        super().__init__(*args, **kwargs)\n",
    "        \n",
    "        # Create attributes for gen end disc\n",
    "        self.generator = generator\n",
    "        self.discriminator = discriminator\n",
    "\n",
    "    def compile(self, g_opt, d_opt, g_loss, d_loss, *args, **kwargs):\n",
    "        ## Compile w/ baseclass\n",
    "        super().compile(*args, **kwargs)\n",
    "\n",
    "        # Attributes for losses and optimizers\n",
    "        self.g_opt = g_opt\n",
    "        self.d_opt = d_opt\n",
    "        self.g_loss = g_loss\n",
    "        self.d_loss = d_loss\n",
    "\n",
    "    def train_step(self, batch):\n",
    "        # get the data\n",
    "        real_images = batch\n",
    "        # 128 because we start with a linear layer w/ 128 neurons. Gets reshaped lated\n",
    "        fake_images = self.generator(tf.random.normal((128, 128, 1)), training = False)\n",
    "\n",
    "        # Train discriminator\n",
    "        with tf.GradientTape() as d_tape:\n",
    "            # 1. pass real and fake imgs to discriminaotr\n",
    "            yhat_real = self.discriminator(real_images, training=True)\n",
    "            yhat_fake = self.discriminator(fake_images, training=True)\n",
    "            yhat_realfake = tf.concat([yhat_real, yhat_fake], axis=0)\n",
    "            \n",
    "            # 2. cresate labels for real and fakes\n",
    "            y_realfake = tf.concat([tf.zeros_like(yhat_real), tf.ones_like(yhat_fake)], axis=0)\n",
    "\n",
    "            # 3. add noise to output to avoid learning too fast\n",
    "            noise_real = 0.15*tf.random.uniform(tf.shape(yhat_real))\n",
    "            ## Not sure if - is good idea.\n",
    "            noise_fake = -0.15*tf.random.uniform(tf.shape(yhat_fake))\n",
    "            y_realfake += tf.concat([noise_real, noise_fake], axis=0)\n",
    "\n",
    "            # 4. Calculate loss - BINARYCROSSENTROPY\n",
    "            total_d_loss = self.d_loss(y_realfake, yhat_realfake)\n",
    "\n",
    "        # 5. Backpropagate -- nn learn\n",
    "        dgrad = d_tape.gradient(total_d_loss, self.discriminator.trainable_variables)\n",
    "        self.d_opt.apply_gradients(zip(dgrad, self.discriminator.trainable_variables))\n",
    "\n",
    "        # Train gen\n",
    "        with tf.GradientTape() as g_tape:\n",
    "            # Generate new images\n",
    "            gen_images = self.generator(tf.random.normal((128, 128, 1)), training=True)\n",
    "\n",
    "            # Create predicted labels\n",
    "            predicted_labels = self.discriminator(gen_images, training=False)\n",
    "\n",
    "            # Calculate loss (rewared when disc says fake is real - hence zeros)\n",
    "            total_g_loss = self.g_loss(tf.zeros_like(predicted_labels), predicted_labels)\n",
    "            # No need to pass real images bc we're not training discriminator\n",
    "\n",
    "        # Apply backprop\n",
    "        ggrad = g_tape.gradient(total_g_loss, self.generator.trainable_variables)\n",
    "        self.g_opt.apply_gradients(zip(ggrad, self.generator.trainable_variables))\n",
    "\n",
    "        return {\"d_loss\":total_d_loss, \"g_loss\": total_g_loss}\n",
    "            \n",
    "    # Also option for train_test"
   ]
  },
  {
   "cell_type": "code",
   "execution_count": 26,
   "metadata": {},
   "outputs": [],
   "source": [
    "## Alt\n",
    "# @tf.function\n",
    "# def train_step():\n",
    "#     pass"
   ]
  },
  {
   "cell_type": "code",
   "execution_count": 27,
   "metadata": {},
   "outputs": [],
   "source": [
    "# Create instance of subclassed model\n",
    "fashiongan = FashionGan(generator, discriminator)"
   ]
  },
  {
   "cell_type": "code",
   "execution_count": 28,
   "metadata": {},
   "outputs": [],
   "source": [
    "# Compile model\n",
    "fashiongan.compile(g_opt, d_opt, g_loss, d_loss)"
   ]
  },
  {
   "cell_type": "markdown",
   "metadata": {},
   "source": [
    "## 4.3 Build callback"
   ]
  },
  {
   "cell_type": "code",
   "execution_count": 29,
   "metadata": {},
   "outputs": [],
   "source": [
    "import os\n",
    "from tensorflow.keras.preprocessing.image import array_to_img\n",
    "from tensorflow.keras.callbacks import Callback"
   ]
  },
  {
   "cell_type": "code",
   "execution_count": 30,
   "metadata": {},
   "outputs": [],
   "source": [
    "## Create images dir for model\n",
    "!mkdir -p images"
   ]
  },
  {
   "cell_type": "code",
   "execution_count": 31,
   "metadata": {},
   "outputs": [],
   "source": [
    "class ModelMonitor(Callback):\n",
    "    def __init__(self, num_img=3, latent_dim=128):\n",
    "        self.num_img = num_img\n",
    "        self.latent_dim = latent_dim\n",
    "\n",
    "    def on_epoch_end(self, epoch, logs=None):\n",
    "        random_latent_vectors = tf.random.uniform((self.num_img, self.latent_dim,1))\n",
    "        generated_images = self.model.generator(random_latent_vectors)\n",
    "        generated_images *= 255\n",
    "        generated_images.numpy()\n",
    "        for i in range(self.num_img):\n",
    "            img = array_to_img(generated_images[i])\n",
    "            img.save(os.path.join('images', f'generated_img_{epoch}_{i}.png'))"
   ]
  },
  {
   "cell_type": "markdown",
   "metadata": {},
   "source": [
    "## Train"
   ]
  },
  {
   "cell_type": "code",
   "execution_count": 32,
   "metadata": {},
   "outputs": [],
   "source": [
    "checkpoint_path = \"training_1/cp.ckpt\"\n",
    "checkpoint_dir = os.path.dirname(checkpoint_path)\n",
    "\n",
    "# Cresate checkpoint callback\n",
    "cp_callback = tf.keras.callbacks.ModelCheckpoint(checkpoint_path,\n",
    "                                                 save_weights_only=True,\n",
    "                                                 verboxe=1)"
   ]
  },
  {
   "cell_type": "code",
   "execution_count": 33,
   "metadata": {},
   "outputs": [
    {
     "name": "stdout",
     "output_type": "stream",
     "text": [
      "Epoch 1/20\n"
     ]
    },
    {
     "name": "stderr",
     "output_type": "stream",
     "text": [
      "2023-08-11 04:55:01.508580: E tensorflow/core/grappler/optimizers/meta_optimizer.cc:954] layout failed: INVALID_ARGUMENT: Size of values 0 does not match size of permutation 4 @ fanin shape insequential_1/dropout/dropout/SelectV2-2-TransposeNHWCToNCHW-LayoutOptimizer\n",
      "2023-08-11 04:55:03.215610: I tensorflow/compiler/xla/service/service.cc:168] XLA service 0x7f5a682595e0 initialized for platform CUDA (this does not guarantee that XLA will be used). Devices:\n",
      "2023-08-11 04:55:03.215637: I tensorflow/compiler/xla/service/service.cc:176]   StreamExecutor device (0): NVIDIA GeForce RTX 3060 Ti, Compute Capability 8.6\n",
      "2023-08-11 04:55:03.220639: I tensorflow/compiler/mlir/tensorflow/utils/dump_mlir_util.cc:255] disabling MLIR crash reproducer, set env var `MLIR_CRASH_REPRODUCER_DIRECTORY` to enable.\n",
      "2023-08-11 04:55:03.316773: I ./tensorflow/compiler/jit/device_compiler.h:186] Compiled cluster using XLA!  This line is logged at most once for the lifetime of the process.\n"
     ]
    },
    {
     "name": "stdout",
     "output_type": "stream",
     "text": [
      "469/469 [==============================] - 48s 88ms/step - d_loss: 0.5774 - g_loss: 0.9982\n",
      "Epoch 2/20\n",
      "469/469 [==============================] - 41s 87ms/step - d_loss: 0.4391 - g_loss: 1.5158\n",
      "Epoch 3/20\n",
      "469/469 [==============================] - 41s 88ms/step - d_loss: 0.6946 - g_loss: 0.6661\n",
      "Epoch 4/20\n",
      "469/469 [==============================] - 41s 88ms/step - d_loss: 0.6024 - g_loss: 0.4347\n",
      "Epoch 5/20\n",
      "469/469 [==============================] - 41s 88ms/step - d_loss: 0.4645 - g_loss: 0.1700\n",
      "Epoch 6/20\n",
      "469/469 [==============================] - 42s 89ms/step - d_loss: 0.5124 - g_loss: 0.0705\n",
      "Epoch 7/20\n",
      "469/469 [==============================] - 42s 89ms/step - d_loss: 0.7066 - g_loss: 0.5520\n",
      "Epoch 8/20\n",
      "469/469 [==============================] - 42s 89ms/step - d_loss: 0.6950 - g_loss: 0.6595\n",
      "Epoch 9/20\n",
      "469/469 [==============================] - 42s 89ms/step - d_loss: 0.6970 - g_loss: 0.6383\n",
      "Epoch 10/20\n",
      "469/469 [==============================] - 42s 89ms/step - d_loss: 0.6904 - g_loss: 0.6575\n",
      "Epoch 11/20\n",
      "469/469 [==============================] - 42s 90ms/step - d_loss: 0.6913 - g_loss: 0.6661\n",
      "Epoch 12/20\n",
      "469/469 [==============================] - 42s 89ms/step - d_loss: 0.6902 - g_loss: 0.6341\n",
      "Epoch 13/20\n",
      "469/469 [==============================] - 42s 89ms/step - d_loss: 0.6838 - g_loss: 0.6364\n",
      "Epoch 14/20\n",
      "469/469 [==============================] - 42s 90ms/step - d_loss: 0.6515 - g_loss: 0.6161\n",
      "Epoch 15/20\n",
      "469/469 [==============================] - 42s 90ms/step - d_loss: 0.6966 - g_loss: 0.5736\n",
      "Epoch 16/20\n",
      "469/469 [==============================] - 42s 90ms/step - d_loss: 0.6875 - g_loss: 0.6428\n",
      "Epoch 17/20\n",
      "469/469 [==============================] - 42s 90ms/step - d_loss: 0.6868 - g_loss: 0.6506\n",
      "Epoch 18/20\n",
      "469/469 [==============================] - 42s 90ms/step - d_loss: 0.6727 - g_loss: 0.6165\n",
      "Epoch 19/20\n",
      "469/469 [==============================] - 42s 90ms/step - d_loss: 0.6785 - g_loss: 0.6205\n",
      "Epoch 20/20\n",
      "469/469 [==============================] - 42s 90ms/step - d_loss: 0.6702 - g_loss: 0.6265\n"
     ]
    }
   ],
   "source": [
    "## Recomended 2000\n",
    "## fashiongan.load_weights(checkpoint_path)\n",
    "hist = fashiongan.fit(ds, epochs=20, callbacks=[ModelMonitor(), cp_callback])"
   ]
  },
  {
   "cell_type": "code",
   "execution_count": 34,
   "metadata": {},
   "outputs": [
    {
     "data": {
      "image/png": "[encoded data removed]",
      "text/plain": [
       "<Figure size 640x480 with 1 Axes>"
      ]
     },
     "metadata": {},
     "output_type": "display_data"
    }
   ],
   "source": [
    "plt.suptitle('Loss')\n",
    "plt.plot(hist.history['d_loss'], label='d_loss')\n",
    "plt.plot(hist.history['g_loss'], label='g_loss')\n",
    "plt.legend()\n",
    "plt.show()"
   ]
  },
  {
   "cell_type": "markdown",
   "metadata": {},
   "source": [
    "##  5. Test out generator"
   ]
  },
  {
   "cell_type": "markdown",
   "metadata": {},
   "source": [
    "### 5.1 Generate Images"
   ]
  },
  {
   "cell_type": "code",
   "execution_count": 35,
   "metadata": {},
   "outputs": [
    {
     "name": "stdout",
     "output_type": "stream",
     "text": [
      "1/1 [==============================] - 0s 244ms/step\n"
     ]
    }
   ],
   "source": [
    "imgs = generator.predict(tf.random.normal((16, 128, 1)))"
   ]
  },
  {
   "cell_type": "code",
   "execution_count": 36,
   "metadata": {},
   "outputs": [
    {
     "data": {
      "image/png": "[encoded data removed]",
      "text/plain": [
       "<Figure size 1000x1000 with 16 Axes>"
      ]
     },
     "metadata": {},
     "output_type": "display_data"
    }
   ],
   "source": [
    "fig, ax = plt.subplots(ncols=4, nrows=4, figsize=(10,10))\n",
    "for r in range(4): \n",
    "    for c in range(4): \n",
    "        ax[r][c].imshow(imgs[(r+1)*(c+1)-1])"
   ]
  },
  {
   "cell_type": "markdown",
   "metadata": {},
   "source": [
    "### 5.2 Save the model"
   ]
  },
  {
   "cell_type": "code",
   "execution_count": 37,
   "metadata": {},
   "outputs": [
    {
     "name": "stdout",
     "output_type": "stream",
     "text": [
      "WARNING:tensorflow:Compiled the loaded model, but the compiled metrics have yet to be built. `model.compile_metrics` will be empty until you train or evaluate the model.\n"
     ]
    },
    {
     "name": "stderr",
     "output_type": "stream",
     "text": [
      "/usr/local/lib/python3.8/dist-packages/keras/src/engine/training.py:3000: UserWarning: You are saving your model as an HDF5 file via `model.save()`. This file format is considered legacy. We recommend using instead the native Keras format, e.g. `model.save('my_model.keras')`.\n",
      "  saving_api.save_model(\n",
      "WARNING:tensorflow:Compiled the loaded model, but the compiled metrics have yet to be built. `model.compile_metrics` will be empty until you train or evaluate the model.\n"
     ]
    },
    {
     "name": "stdout",
     "output_type": "stream",
     "text": [
      "WARNING:tensorflow:Compiled the loaded model, but the compiled metrics have yet to be built. `model.compile_metrics` will be empty until you train or evaluate the model.\n"
     ]
    },
    {
     "name": "stderr",
     "output_type": "stream",
     "text": [
      "WARNING:tensorflow:Compiled the loaded model, but the compiled metrics have yet to be built. `model.compile_metrics` will be empty until you train or evaluate the model.\n"
     ]
    }
   ],
   "source": [
    "generator.save('generator.h5')\n",
    "discriminator.save('discriminator.h5')"
   ]
  }
 ],
 "metadata": {
  "kernelspec": {
   "display_name": "Python 3 (ipykernel)",
   "language": "python",
   "name": "python3"
  },
  "language_info": {
   "codemirror_mode": {
    "name": "ipython",
    "version": 3
   },
   "file_extension": ".py",
   "mimetype": "text/x-python",
   "name": "python",
   "nbconvert_exporter": "python",
   "pygments_lexer": "ipython3",
   "version": "3.8.10"
  },
  "orig_nbformat": 4
 },
 "nbformat": 4,
 "nbformat_minor": 2
}
