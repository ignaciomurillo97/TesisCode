{
 "cells": [
  {
   "cell_type": "code",
   "execution_count": 1,
   "metadata": {},
   "outputs": [
    {
     "name": "stdout",
     "output_type": "stream",
     "text": [
      "Requirement already satisfied: rasterio in /usr/local/lib/python3.8/dist-packages (1.3.8)\n",
      "Requirement already satisfied: affine in /usr/local/lib/python3.8/dist-packages (from rasterio) (2.4.0)\n",
      "Requirement already satisfied: attrs in /usr/local/lib/python3.8/dist-packages (from rasterio) (23.1.0)\n",
      "Requirement already satisfied: certifi in /usr/lib/python3/dist-packages (from rasterio) (2019.11.28)\n",
      "Requirement already satisfied: click>=4.0 in /usr/local/lib/python3.8/dist-packages (from rasterio) (8.1.6)\n",
      "Requirement already satisfied: cligj>=0.5 in /usr/local/lib/python3.8/dist-packages (from rasterio) (0.7.2)\n",
      "Requirement already satisfied: numpy>=1.18 in /usr/local/lib/python3.8/dist-packages (from rasterio) (1.24.3)\n",
      "Requirement already satisfied: snuggs>=1.4.1 in /usr/local/lib/python3.8/dist-packages (from rasterio) (1.4.7)\n",
      "Requirement already satisfied: click-plugins in /usr/local/lib/python3.8/dist-packages (from rasterio) (1.1.1)\n",
      "Requirement already satisfied: setuptools in /usr/local/lib/python3.8/dist-packages (from rasterio) (68.0.0)\n",
      "Requirement already satisfied: pyparsing>=2.1.6 in /usr/local/lib/python3.8/dist-packages (from snuggs>=1.4.1->rasterio) (3.0.9)\n",
      "\u001b[33mWARNING: Running pip as the 'root' user can result in broken permissions and conflicting behaviour with the system package manager. It is recommended to use a virtual environment instead: https://pip.pypa.io/warnings/venv\u001b[0m\u001b[33m\n",
      "\u001b[0m\n",
      "\u001b[1m[\u001b[0m\u001b[34;49mnotice\u001b[0m\u001b[1;39;49m]\u001b[0m\u001b[39;49m A new release of pip is available: \u001b[0m\u001b[31;49m23.1.2\u001b[0m\u001b[39;49m -> \u001b[0m\u001b[32;49m23.2.1\u001b[0m\n",
      "\u001b[1m[\u001b[0m\u001b[34;49mnotice\u001b[0m\u001b[1;39;49m]\u001b[0m\u001b[39;49m To update, run: \u001b[0m\u001b[32;49mpython3 -m pip install --upgrade pip\u001b[0m\n",
      "Note: you may need to restart the kernel to use updated packages.\n"
     ]
    }
   ],
   "source": [
    "%pip install rasterio"
   ]
  },
  {
   "cell_type": "code",
   "execution_count": 8,
   "metadata": {},
   "outputs": [
    {
     "name": "stdout",
     "output_type": "stream",
     "text": [
      "TesisCode  discriminator.h5  generator.h5  images  training_1\n"
     ]
    }
   ],
   "source": [
    "!ls"
   ]
  },
  {
   "cell_type": "code",
   "execution_count": 15,
   "metadata": {},
   "outputs": [],
   "source": [
    "import rasterio as rs\n",
    "import numpy as np\n",
    "from os import listdir\n",
    "from os.path import isfile, join\n",
    "from tensorflow.data import Dataset\n",
    "\n",
    "def get_srtm_dataset(geotiff_dir = \"TesisCode/Dataset/download2/\"):\n",
    "    contents = listdir(geotiff_dir)\n",
    "\n",
    "    array_set = False\n",
    "    tiff_array = None\n",
    "\n",
    "    for file in contents:\n",
    "        filepath = join(geotiff_dir, file)\n",
    "        if isfile(filepath):\n",
    "            dataset = rs.open(filepath)\n",
    "            data = dataset.read()\n",
    "            cropped_data = data[:1,:28,:28]\n",
    "            if not array_set:\n",
    "                tiff_array = cropped_data\n",
    "                array_set = True\n",
    "            else:\n",
    "                tiff_array = np.concatenate((tiff_array, cropped_data), axis=0)\n",
    "\n",
    "    return Dataset.from_tensor_slices(tiff_array)"
   ]
  },
  {
   "cell_type": "code",
   "execution_count": 13,
   "metadata": {},
   "outputs": [],
   "source": [
    "import rasterio as rs\n",
    "import numpy as np\n",
    "import random\n",
    "from os import listdir\n",
    "from os.path import isfile, join\n",
    "from tensorflow.data import Dataset\n",
    "\n",
    "def get_tiff_array(geotiff_dir = \"TesisCode/Dataset/download2/\"):\n",
    "    contents = listdir(geotiff_dir)\n",
    "\n",
    "    array_set = False\n",
    "    tiff_array = None\n",
    "\n",
    "    crops_per_sample = 5\n",
    "\n",
    "    for file in contents:\n",
    "        filepath = join(geotiff_dir, file)\n",
    "        if isfile(filepath):\n",
    "            dataset = rs.open(filepath)\n",
    "            data = dataset.read()\n",
    "            for i in range(crops_per_sample):\n",
    "                size_rows, size_cols = np.shape(data[0])\n",
    "                start_rows = random.randint(0, size_rows - 28)\n",
    "                start_cols = random.randint(0, size_cols - 28)\n",
    "                cropped_data = data[:1,start_rows:start_rows+28,start_cols:start_cols+28]\n",
    "                if not array_set:\n",
    "                    tiff_array = cropped_data\n",
    "                    array_set = True\n",
    "                else:\n",
    "                    tiff_array = np.concatenate((tiff_array, cropped_data), axis=0)\n",
    "\n",
    "    return tiff_array\n",
    "\n",
    "def get_srtm_dataset(geotiff_dir = \"TesisCode/Dataset/download2/\"):\n",
    "    tiff_array = get_tiff_array(geotiff_dir)\n",
    "    return Dataset.from_tensor_slicens(tiff_array)"
   ]
  },
  {
   "cell_type": "code",
   "execution_count": 31,
   "metadata": {},
   "outputs": [
    {
     "name": "stdout",
     "output_type": "stream",
     "text": [
      "Tensor(\"args_0:0\", shape=(), dtype=string)\n"
     ]
    },
    {
     "data": {
      "text/plain": [
       "<_MapDataset element_spec=TensorSpec(shape=(), dtype=tf.string, name=None)>"
      ]
     },
     "execution_count": 31,
     "metadata": {},
     "output_type": "execute_result"
    }
   ],
   "source": [
    "import tensorflow as tf\n",
    "\n",
    "def process_img(img):\n",
    "    print(img)\n",
    "    return img\n",
    "    \n",
    "\n",
    "path = \"TesisCode/Dataset/download2/*.tif\"\n",
    "ds = tf.data.Dataset.list_files(path).map(process_img)\n",
    "ds"
   ]
  },
  {
   "cell_type": "code",
   "execution_count": 9,
   "metadata": {},
   "outputs": [],
   "source": [
    "ds = get_tiff_array()"
   ]
  },
  {
   "cell_type": "code",
   "execution_count": 12,
   "metadata": {},
   "outputs": [
    {
     "data": {
      "text/plain": [
       "(2500, 28, 28)"
      ]
     },
     "execution_count": 12,
     "metadata": {},
     "output_type": "execute_result"
    }
   ],
   "source": [
    "np.shape(ds)"
   ]
  }
 ],
 "metadata": {
  "kernelspec": {
   "display_name": "Python 3 (ipykernel)",
   "language": "python",
   "name": "python3"
  },
  "language_info": {
   "codemirror_mode": {
    "name": "ipython",
    "version": 3
   },
   "file_extension": ".py",
   "mimetype": "text/x-python",
   "name": "python",
   "nbconvert_exporter": "python",
   "pygments_lexer": "ipython3",
   "version": "3.8.10"
  },
  "orig_nbformat": 4
 },
 "nbformat": 4,
 "nbformat_minor": 2
}
