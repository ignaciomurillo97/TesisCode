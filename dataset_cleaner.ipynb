{
 "cells": [
  {
   "cell_type": "code",
   "execution_count": 9,
   "metadata": {},
   "outputs": [
    {
     "name": "stdout",
     "output_type": "stream",
     "text": [
      "{'driver': 'GTiff', 'dtype': 'uint16', 'nodata': None, 'width': 2044, 'height': 2047, 'count': 1, 'crs': CRS.from_epsg(32751), 'transform': Affine(10.0, 0.0, 766210.0,\n",
      "       0.0, -10.0, 6659190.0), 'blockxsize': 256, 'blockysize': 256, 'tiled': True, 'compress': 'lzw', 'interleave': 'band'}\n",
      "1\n",
      "2047 2044\n",
      "EPSG:32751\n",
      "(1, 2047, 2044)\n",
      "uint16\n"
     ]
    }
   ],
   "source": [
    "import rasterio as rs\n",
    "\n",
    "geotiff_dir = \"./download/download_1/\"\n",
    "geotiff_file = \"elevation_0_-30.259550738342583_125.87275176460771_20230505_113114.tif\"\n",
    "png_output_dir = \"./png_output/\"\n",
    "png_output = \"test.png\"\n",
    "\n",
    "dataset = rs.open(geotiff_dir + geotiff_file)\n",
    "data = dataset.read()\n",
    "\n",
    "print(dataset.profile)\n",
    "# No. of bands\n",
    "print (dataset.count)\n",
    "# Image resolution\n",
    "print (dataset.height, dataset.width)\n",
    "# CRS\n",
    "print (dataset.crs)\n",
    "print(data.shape)\n",
    "print(data.dtype)\n",
    "\n",
    "crs = dataset.crs\n",
    "transform = dataset.transform\n",
    "\n",
    "with rs.open(png_output_dir + png_output, 'w', driver='PNG',\n",
    "               width=data.shape[1], height=data.shape[2],\n",
    "               count=1, dtype=data.dtype, nodata=None,\n",
    "               transform=transform, crs=crs, format='PNG') as dst:\n",
    "    dst.write(data, indexes=None)"
   ]
  },
  {
   "cell_type": "code",
   "execution_count": 18,
   "metadata": {},
   "outputs": [
    {
     "name": "stdout",
     "output_type": "stream",
     "text": [
      "dirs: ['elevation_0_-30.259550738342583_125.87275176460771_20230505_113114.tif', 'elevation_2_-18.532775966758468_129.76453518481793_20230505_113114.tif', 'elevation_1_-19.828182365735078_134.14123664359352_20230505_113114.tif', 'elevation_3_-28.057247019599938_145.64187576811838_20230505_113114.tif', 'elevation_4_-23.699296700107787_126.71201481489858_20230505_113114.tif']\n",
      "filepath:  ./download/download_1/elevation_0_-30.259550738342583_125.87275176460771_20230505_113114.tif\n",
      "it's a file!\n",
      "dataset read\n",
      "written:  elevation_0_-30.259550738342583_125.87275176460771_20230505_113114.gif\n",
      "filepath:  ./download/download_1/elevation_2_-18.532775966758468_129.76453518481793_20230505_113114.tif\n",
      "it's a file!\n",
      "dataset read\n",
      "written:  elevation_2_-18.532775966758468_129.76453518481793_20230505_113114.gif\n",
      "filepath:  ./download/download_1/elevation_1_-19.828182365735078_134.14123664359352_20230505_113114.tif\n",
      "it's a file!\n",
      "dataset read\n",
      "written:  elevation_1_-19.828182365735078_134.14123664359352_20230505_113114.gif\n",
      "filepath:  ./download/download_1/elevation_3_-28.057247019599938_145.64187576811838_20230505_113114.tif\n",
      "it's a file!\n",
      "dataset read\n",
      "written:  elevation_3_-28.057247019599938_145.64187576811838_20230505_113114.gif\n",
      "filepath:  ./download/download_1/elevation_4_-23.699296700107787_126.71201481489858_20230505_113114.tif\n",
      "it's a file!\n",
      "dataset read\n",
      "written:  elevation_4_-23.699296700107787_126.71201481489858_20230505_113114.gif\n"
     ]
    }
   ],
   "source": [
    "from os import listdir\n",
    "from os.path import isfile, join\n",
    "output_format = 'PNG'\n",
    "\n",
    "contents = listdir(geotiff_dir)\n",
    "\n",
    "print(\"dirs:\", contents)\n",
    "\n",
    "for file in contents:\n",
    "    filepath = join(geotiff_dir, file)\n",
    "    print(\"filepath: \", filepath)\n",
    "    if isfile(filepath):\n",
    "        print(\"it's a file!\")\n",
    "\n",
    "        dataset = rs.open(filepath)\n",
    "        data = dataset.read()\n",
    "        png_filename = file.replace(\".tif\", \".gif\")\n",
    "        png_filepath = join(png_output_dir, png_filename)\n",
    "\n",
    "        print(\"dataset read\")\n",
    "\n",
    "        with rs.open(png_filepath, 'w', driver=output_format,\n",
    "                    width=data.shape[1], height=data.shape[2],\n",
    "                    count=1, dtype=data.dtype, nodata=None,\n",
    "                    transform=transform, crs=crs, format=output_format) as dst:\n",
    "            dst.write(data, indexes=None)\n",
    "\n",
    "        print(\"written: \", png_filename)"
   ]
  },
  {
   "cell_type": "code",
   "execution_count": 2,
   "metadata": {},
   "outputs": [
    {
     "data": {
      "text/plain": [
       "857"
      ]
     },
     "execution_count": 2,
     "metadata": {},
     "output_type": "execute_result"
    }
   ],
   "source": [
    "data[0,0,0]"
   ]
  }
 ],
 "metadata": {
  "kernelspec": {
   "display_name": "EarthEngine",
   "language": "python",
   "name": "python3"
  },
  "language_info": {
   "codemirror_mode": {
    "name": "ipython",
    "version": 3
   },
   "file_extension": ".py",
   "mimetype": "text/x-python",
   "name": "python",
   "nbconvert_exporter": "python",
   "pygments_lexer": "ipython3",
   "version": "3.11.3"
  },
  "orig_nbformat": 4
 },
 "nbformat": 4,
 "nbformat_minor": 2
}
